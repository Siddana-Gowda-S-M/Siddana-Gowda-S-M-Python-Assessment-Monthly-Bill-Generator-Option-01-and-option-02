{
 "cells": [
  {
   "cell_type": "markdown",
   "id": "2526237b-31a9-4632-9bd4-3e39d88d9a0d",
   "metadata": {},
   "source": [
    "# Python Assessment: Monthly Bill Generator (Option-1)\n",
    "\n"
   ]
  },
  {
   "cell_type": "markdown",
   "id": "7d8646b1-fd0e-4722-9394-237999b5554d",
   "metadata": {},
   "source": [
    "## Generates a bill by calculating charges for active items and grouping them appropriately."
   ]
  },
  {
   "cell_type": "markdown",
   "id": "e45ff5de-a8c9-4ecb-a14b-0593bca358c2",
   "metadata": {},
   "source": [
    "### Requirements"
   ]
  },
  {
   "cell_type": "markdown",
   "id": "d39c4de7-6984-41d0-a136-866feb6e5730",
   "metadata": {},
   "source": [
    "##### 1. Active Item Detection\n",
    "- Include only items whose date range intersects with the selected month."
   ]
  },
  {
   "cell_type": "markdown",
   "id": "436f503c-35d0-4191-a6d0-11cf6c726a0e",
   "metadata": {},
   "source": [
    "##### 2.Grouping Logic\n",
    "-  Item_code and rate matchs and their billing periods/intersection of item's start and stop dates with selected month.\n"
   ]
  },
  {
   "cell_type": "markdown",
   "id": "4f0e1367-474f-441c-992a-6f3df4f3f252",
   "metadata": {},
   "source": [
    "##### 3. Amount Calculation\n",
    "- Calculate the billable amount for each item based on its active days in the selected month.\n"
   ]
  },
  {
   "cell_type": "markdown",
   "id": "336b34b9-e269-465b-9b90-056cb164a342",
   "metadata": {},
   "source": [
    "##### 4. Total Revenue\n",
    "- The total revenue should be the sum of all grouped amounts."
   ]
  },
  {
   "cell_type": "markdown",
   "id": "b4a8f9cc-1b95-4dbd-9d1b-b81769ba398d",
   "metadata": {},
   "source": [
    "##  Final code"
   ]
  },
  {
   "cell_type": "markdown",
   "id": "88bac6a8-7f44-448f-a0c9-9885723bf10e",
   "metadata": {},
   "source": [
    "###### Press ctrl+Enter to get output"
   ]
  },
  {
   "cell_type": "code",
   "execution_count": null,
   "id": "e392f3e6-d279-4c69-a61d-34960cddd7c0",
   "metadata": {},
   "outputs": [],
   "source": [
    "from datetime import datetime, timedelta\n",
    "from dateutil.relativedelta import relativedelta\n",
    "from collections import defaultdict\n",
    "\n",
    "def generate_monthly_bill(item_list: list, target_month: str):\n",
    "    # Parse target month\n",
    "    year, month = map(int, target_month.split('-'))\n",
    "    month_start = datetime(year, month, 1)\n",
    "    month_end = month_start + relativedelta(months=1) - timedelta(days=1)\n",
    "    \n",
    "    # Process items here\n",
    "    processed_items = []\n",
    "    for item in item_list:\n",
    "        try:\n",
    "            processed = {\n",
    "                'item_code': item['item_code'],\n",
    "                'qty': float(item['qty']) if isinstance(item['qty'], str) else item['qty'],\n",
    "                'rate': float(item['rate']) if isinstance(item['rate'], str) else item['rate'],\n",
    "                'start_date': datetime.strptime(item['start_date'], '%Y-%m-%d'),\n",
    "                'stop_date': datetime.strptime(item['stop_date'], '%Y-%m-%d') if item.get('stop_date') else None\n",
    "            }\n",
    "            processed_items.append(processed)\n",
    "        except (KeyError, ValueError):\n",
    "            continue\n",
    "    \n",
    "    # Filter active items\n",
    "    active_items = []\n",
    "    for item in processed_items:\n",
    "        if (item['start_date'] <= month_end) and (item['stop_date'] is None or item['stop_date'] >= month_start):\n",
    "            active_items.append(item)\n",
    "    \n",
    "    # Grouping items\n",
    "    groups = defaultdict(list)\n",
    "    for item in active_items:\n",
    "        start = max(item['start_date'], month_start)\n",
    "        stop = min(item['stop_date'], month_end) if item['stop_date'] else month_end\n",
    "        group_key = (item['item_code'], item['rate'], start.strftime('%Y-%m-%d'), stop.strftime('%Y-%m-%d'))\n",
    "        groups[group_key].append(item)\n",
    "    \n",
    "    # Prepare output for above code\n",
    "    line_items = []\n",
    "    total_revenue = 0.0\n",
    "    \n",
    "    for key, items in groups.items():\n",
    "        item_code, rate, start_str, stop_str = key\n",
    "        start = datetime.strptime(start_str, '%Y-%m-%d')\n",
    "        stop = datetime.strptime(stop_str, '%Y-%m-%d')\n",
    "        \n",
    "        total_qty = sum(item['qty'] for item in items)\n",
    "        days_in_period = (stop - start).days + 1\n",
    "        days_in_month = (month_end - month_start).days + 1\n",
    "        \n",
    "        amount = total_qty * rate * (days_in_period / days_in_month) if days_in_period < days_in_month else total_qty * rate\n",
    "        \n",
    "        line_items.append({\n",
    "            'item_code': item_code,\n",
    "            'rate': rate,\n",
    "            'qty': total_qty,\n",
    "            'amount': round(amount, 2),\n",
    "            'billing_period': f\"{start_str} to {stop_str}\"\n",
    "        })\n",
    "        total_revenue += amount\n",
    "    \n",
    "    return {\n",
    "        'line_items': line_items,\n",
    "        'total_revenue': round(total_revenue, 2)\n",
    "    }\n",
    "\n",
    "# Test data (simplified)\n",
    "item_list = [\n",
    "    {\n",
    "        \"item_code\": \"Executive Desk (4*2)\",\n",
    "        \"qty\": 10,\n",
    "        \"rate\": \"1080\",\n",
    "        \"start_date\": \"2024-11-01\",\n",
    "        \"stop_date\": \"2024-11-30\",\n",
    "    }\n",
    "]\n",
    "\n",
    "# Test the function\n",
    "bill = generate_monthly_bill(item_list, \"2024-11\")\n",
    "print(bill)\n"
   ]
  },
  {
   "cell_type": "markdown",
   "id": "dc87e19b-9dbe-421f-80f6-0b582b9c88fe",
   "metadata": {},
   "source": [
    "# Python Assessment: Monthly Bill PDF Invoice Generator(Option-2)"
   ]
  },
  {
   "cell_type": "markdown",
   "id": "77c95de1-b344-4132-9b96-f95d4c170baa",
   "metadata": {},
   "source": [
    "## Purpose:\n",
    "Generates a custom PDF invoice with customer details and itemized billing."
   ]
  },
  {
   "cell_type": "markdown",
   "id": "4beb4c1e-0cb8-4a45-9687-4d7668b93ae5",
   "metadata": {},
   "source": [
    "### Inputs"
   ]
  },
  {
   "cell_type": "markdown",
   "id": "214be4a7-f5ad-429d-8275-4723ffd5d1de",
   "metadata": {},
   "source": [
    "##### 1. Invoice title, customer name and email are collected from  user input."
   ]
  },
  {
   "cell_type": "markdown",
   "id": "6998493d-8e76-4f1e-a05c-061392e012c4",
   "metadata": {},
   "source": [
    "##### 2.Item entries like name, quantity, price and description added interactively.\n"
   ]
  },
  {
   "cell_type": "markdown",
   "id": "07c1232d-e1a9-4f69-96fa-5256ef3f25b7",
   "metadata": {},
   "source": [
    "##### 3.It generate a PDF as output.\n"
   ]
  },
  {
   "cell_type": "markdown",
   "id": "6d81bcda-4cb2-48ac-8c3a-94c4b65015b9",
   "metadata": {},
   "source": [
    "##  Python code"
   ]
  },
  {
   "cell_type": "markdown",
   "id": "1638c932-1f76-4383-a8de-30d6db4e8ccf",
   "metadata": {},
   "source": [
    "###### Press ctrl+Enter to get output"
   ]
  },
  {
   "cell_type": "code",
   "execution_count": null,
   "id": "f0d64391-b1b1-49fd-9e68-7a05c1ccb861",
   "metadata": {},
   "outputs": [],
   "source": [
    "from reportlab.lib.pagesizes import letter\n",
    "\n",
    "from reportlab.pdfgen import canvas\n",
    "\n",
    "def generate_custom_pdf(title, customer_data, items):\n",
    "    pdf_file = f\"{title}.pdf\"\n",
    "\n",
    "    c = canvas.Canvas(pdf_file, pagesize=letter)\n",
    "\n",
    "    c.setFont(\"Helvetica\", 12)\n",
    "\n",
    "    c.drawString(50, 750, title)\n",
    "\n",
    "    c.drawString(50, 700, \"Customer Information: \")\n",
    "\n",
    "    y_offset = 680\n",
    "\n",
    "    for key, value in customer_data.items():\n",
    "        c.drawString(50, y_offset, f\"{key}: {value}\")\n",
    "        y_offset -= 20\n",
    "\n",
    "    c.drawString(50, y_offset - 20, \"Items\")\n",
    "    c.drawString(50, y_offset - 40, \"Item Name\")\n",
    "    c.drawString(200, y_offset - 40, \"Quantity\")\n",
    "    c.drawString(300, y_offset - 40, \"Price\")\n",
    "    c.drawString(400, y_offset - 40, \"Description\")\n",
    "\n",
    "    y_offset -= 60\n",
    "\n",
    "    total_amount = 0\n",
    "\n",
    "    for item in items:\n",
    "        item_name, quantity, price, description = item\n",
    "\n",
    "        c.drawString(50, y_offset, item_name)\n",
    "        c.drawString(200, y_offset, str(quantity))\n",
    "        c.drawString(300, y_offset, f\"Rs.{price:.2f}\")\n",
    "        c.drawString(400, y_offset, description)\n",
    "\n",
    "        total_amount += quantity * price\n",
    "        y_offset -= 20\n",
    "\n",
    "        c.drawString(200, y_offset - 20, \"Total\")\n",
    "\n",
    "        c.drawString(300, y_offset - 20, f\"Rs.{total_amount:.2f}\")\n",
    "\n",
    "\n",
    "        c.save()\n",
    "\n",
    "if __name__ == \"__main__\":\n",
    "    title = input(\"Enter the invoice title: \")\n",
    "\n",
    "    customer_data = {}\n",
    "\n",
    "    customer_data[\"Name\"] = input(\"Enter Customer Name: \")\n",
    "\n",
    "    \n",
    "\n",
    "    customer_data[\"Email\"] = input(\"Enter Customer Email: \")\n",
    "\n",
    "    items = []\n",
    "\n",
    "    while True:\n",
    "        item_name = input(\"Enter Item Name (or 'done' ) to finish: \")\n",
    "\n",
    "        if item_name.lower() == \"done\":\n",
    "            break\n",
    "\n",
    "        quantity = int(input(\"Enter Quantity: \"))\n",
    "\n",
    "        price = float(input(\"Enter Price: \"))\n",
    "\n",
    "        description = input(\"Enter Product Description: \")\n",
    "\n",
    "        items.append((item_name, quantity, price, description))\n",
    "\n",
    "        generate_custom_pdf(title, customer_data, items)\n",
    "\n"
   ]
  }
 ],
 "metadata": {
  "kernelspec": {
   "display_name": "Python 3 (ipykernel)",
   "language": "python",
   "name": "python3"
  },
  "language_info": {
   "codemirror_mode": {
    "name": "ipython",
    "version": 3
   },
   "file_extension": ".py",
   "mimetype": "text/x-python",
   "name": "python",
   "nbconvert_exporter": "python",
   "pygments_lexer": "ipython3",
   "version": "3.13.0"
  }
 },
 "nbformat": 4,
 "nbformat_minor": 5
}
